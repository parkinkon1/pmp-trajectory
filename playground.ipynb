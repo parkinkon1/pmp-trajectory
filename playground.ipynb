{
 "cells": [
  {
   "cell_type": "code",
   "execution_count": 1,
   "source": [
    "import torch\n",
    "from torch.utils.data import DataLoader\n",
    "\n",
    "from model.encoder import Encoder\n",
    "from model.decoder import Decoder\n",
    "from datautil.waymo_dataset import WaymoDataset\n",
    "from datautil.waymo_rast_dataset import waymo_raster_collate_fn\n",
    "\n",
    "dataset = WaymoDataset('./data/tfrecords', './data/idxs')\n",
    "dataloader = DataLoader(dataset, batch_size=1, collate_fn=lambda x: waymo_raster_collate_fn(x))\n",
    "\n",
    "data0 = next(iter(dataloader))"
   ],
   "outputs": [],
   "metadata": {}
  },
  {
   "cell_type": "code",
   "execution_count": 2,
   "source": [
    "scene_img_batch, tgt_img_batch, agent_points_batch, states_feat_batch, agents_batch_mask, \\\n",
    "                states_padding_mask_batch, (states_hidden_mask_BP_batch,states_hidden_mask_CBP_batch,states_hidden_mask_GDP_batch) = data0"
   ],
   "outputs": [],
   "metadata": {}
  },
  {
   "cell_type": "code",
   "execution_count": 3,
   "source": [
    "print(scene_img_batch.shape)\n",
    "message = 'scene img : [6,500,500]. \\n6-channel image input : \\n\\t 0: drivable area \\n\\t 1: centerline \\n\\t 2: road lane \\n\\t 3: red lights \\\n",
    "\\n\\t 4: yellow lights \\n\\t 5: green lights'\n",
    "print(message)\n",
    "print('')\n",
    "print(tgt_img_batch.shape)\n",
    "message = 'tgt_img : [num_agents,500,500]. \\noccupied map img with line width 1'\n",
    "print(message)\n",
    "print('')\n",
    "print(agent_points_batch.shape)\n",
    "message = 'agent points : [num_agents,4]. \\neach agent\\'s start(current) point and end point \\nstart_x, start_y, end_x, end_y'\n",
    "print(message)\n",
    "print('')\n",
    "print(states_feat_batch.shape)\n",
    "message = 'states feat : [num_agent,time_steps,9]. \\number of ntime steps is 91. \\n9-channel input: \\n\\t (x,y,bbox_yaw,vel_x,vel_y,vel_yaw,width,length,timestamp)'\n",
    "print(message)\n",
    "print('')\n",
    "print(agents_batch_mask.shape)\n",
    "message = 'agents batch mask : [num_agent,num_agent]. \\nagent-to-agent mask. If two agents are from different scenes, it is False, else, True'\n",
    "print(message)\n",
    "print('')\n",
    "print(states_padding_mask_batch.shape)\n",
    "message = 'state padding mask : [num_agent,time_steps]. \\nif state value is invalid in specific time step, it is False, else, True'\n",
    "print(message)\n",
    "print('')\n",
    "print(states_hidden_mask_BP_batch.shape)\n",
    "message = 'states hidden mask : [num_agent,time_steps]. \\nfollowing scene transformer, True mean that value is masked to be inferred'\n",
    "print(message)"
   ],
   "outputs": [
    {
     "output_type": "stream",
     "name": "stdout",
     "text": [
      "(6, 500, 500)\n",
      "scene img : [6,500,500]. \n",
      "6-channel image input : \n",
      "\t 0: drivable area \n",
      "\t 1: centerline \n",
      "\t 2: road lane \n",
      "\t 3: red lights \n",
      "\t 4: yellow lights \n",
      "\t 5: green lights\n",
      "\n",
      "(7, 500, 500)\n",
      "tgt_img : [num_agents,500,500]. \n",
      "occupied map img with line width 1\n",
      "\n",
      "(7, 4)\n",
      "agent points : [num_agents,4]. \n",
      "each agent's start(current) point and end point \n",
      "start_x, start_y, end_x, end_y\n",
      "\n",
      "(7, 91, 9)\n",
      "states feat : [num_agent,time_steps,9]. \n",
      "umber of ntime steps is 91. \n",
      "9-channel input: \n",
      "\t (x,y,bbox_yaw,vel_x,vel_y,vel_yaw,width,length,timestamp)\n",
      "\n",
      "(7, 7)\n",
      "agents batch mask : [num_agent,num_agent]. \n",
      "agent-to-agent mask. If two agents are from different scenes, it is False, else, True\n",
      "\n",
      "(7, 91)\n",
      "state padding mask : [num_agent,time_steps]. \n",
      "if state value is invalid in specific time step, it is False, else, True\n",
      "\n",
      "(7, 91)\n",
      "states hidden mask : [num_agent,time_steps]. \n",
      "following scene transformer, True mean that value is masked to be inferred\n"
     ]
    }
   ],
   "metadata": {}
  },
  {
   "cell_type": "code",
   "execution_count": 4,
   "source": [
    "import matplotlib.pyplot as plt\n",
    "\n",
    "a = scene_img_batch[0]\n"
   ],
   "outputs": [],
   "metadata": {}
  },
  {
   "cell_type": "code",
   "execution_count": 5,
   "source": [
    "plt.imshow(a)\n",
    "plt.show()"
   ],
   "outputs": [
    {
     "output_type": "display_data",
     "data": {
      "text/plain": [
       "<Figure size 432x288 with 1 Axes>"
      ],
      "image/svg+xml": "<?xml version=\"1.0\" encoding=\"utf-8\" standalone=\"no\"?>\n<!DOCTYPE svg PUBLIC \"-//W3C//DTD SVG 1.1//EN\"\n  \"http://www.w3.org/Graphics/SVG/1.1/DTD/svg11.dtd\">\n<!-- Created with matplotlib (https://matplotlib.org/) -->\n<svg height=\"252.099904pt\" version=\"1.1\" viewBox=\"0 0 257.9275 252.099904\" width=\"257.9275pt\" xmlns=\"http://www.w3.org/2000/svg\" xmlns:xlink=\"http://www.w3.org/1999/xlink\">\n <metadata>\n  <rdf:RDF xmlns:cc=\"http://creativecommons.org/ns#\" xmlns:dc=\"http://purl.org/dc/elements/1.1/\" xmlns:rdf=\"http://www.w3.org/1999/02/22-rdf-syntax-ns#\">\n   <cc:Work>\n    <dc:type rdf:resource=\"http://purl.org/dc/dcmitype/StillImage\"/>\n    <dc:date>2021-08-17T15:24:35.630229</dc:date>\n    <dc:format>image/svg+xml</dc:format>\n    <dc:creator>\n     <cc:Agent>\n      <dc:title>Matplotlib v3.3.4, https://matplotlib.org/</dc:title>\n     </cc:Agent>\n    </dc:creator>\n   </cc:Work>\n  </rdf:RDF>\n </metadata>\n <defs>\n  <style type=\"text/css\">*{stroke-linecap:butt;stroke-linejoin:round;}</style>\n </defs>\n <g id=\"figure_1\">\n  <g id=\"patch_1\">\n   <path d=\"M 0 252.099904 \nL 257.9275 252.099904 \nL 257.9275 0 \nL 0 0 \nz\n\" style=\"fill:none;\"/>\n  </g>\n  <g id=\"axes_1\">\n   <g id=\"patch_2\">\n    <path d=\"M 33.2875 228.221779 \nL 250.7275 228.221779 \nL 250.7275 10.781779 \nL 33.2875 10.781779 \nz\n\" style=\"fill:#ffffff;\"/>\n   </g>\n   <g clip-path=\"url(#pa1f78b0a2d)\">\n    <image height=\"218\" id=\"image467113320a\" transform=\"scale(1 -1)translate(0 -218)\" width=\"218\" x=\"33.2875\" xlink:href=\"data:image/png;base64,\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\" y=\"-10.221779\"/>\n   </g>\n   <g id=\"matplotlib.axis_1\">\n    <g id=\"xtick_1\">\n     <g id=\"line2d_1\">\n      <defs>\n       <path d=\"M 0 0 \nL 0 3.5 \n\" id=\"m3c27ca4ede\" style=\"stroke:#000000;stroke-width:0.8;\"/>\n      </defs>\n      <g>\n       <use style=\"stroke:#000000;stroke-width:0.8;\" x=\"33.50494\" xlink:href=\"#m3c27ca4ede\" y=\"228.221779\"/>\n      </g>\n     </g>\n     <g id=\"text_1\">\n      <!-- 0 -->\n      <g transform=\"translate(30.32369 242.820216)scale(0.1 -0.1)\">\n       <defs>\n        <path d=\"M 31.78125 66.40625 \nQ 24.171875 66.40625 20.328125 58.90625 \nQ 16.5 51.421875 16.5 36.375 \nQ 16.5 21.390625 20.328125 13.890625 \nQ 24.171875 6.390625 31.78125 6.390625 \nQ 39.453125 6.390625 43.28125 13.890625 \nQ 47.125 21.390625 47.125 36.375 \nQ 47.125 51.421875 43.28125 58.90625 \nQ 39.453125 66.40625 31.78125 66.40625 \nz\nM 31.78125 74.21875 \nQ 44.046875 74.21875 50.515625 64.515625 \nQ 56.984375 54.828125 56.984375 36.375 \nQ 56.984375 17.96875 50.515625 8.265625 \nQ 44.046875 -1.421875 31.78125 -1.421875 \nQ 19.53125 -1.421875 13.0625 8.265625 \nQ 6.59375 17.96875 6.59375 36.375 \nQ 6.59375 54.828125 13.0625 64.515625 \nQ 19.53125 74.21875 31.78125 74.21875 \nz\n\" id=\"DejaVuSans-48\"/>\n       </defs>\n       <use xlink:href=\"#DejaVuSans-48\"/>\n      </g>\n     </g>\n    </g>\n    <g id=\"xtick_2\">\n     <g id=\"line2d_2\">\n      <g>\n       <use style=\"stroke:#000000;stroke-width:0.8;\" x=\"76.99294\" xlink:href=\"#m3c27ca4ede\" y=\"228.221779\"/>\n      </g>\n     </g>\n     <g id=\"text_2\">\n      <!-- 100 -->\n      <g transform=\"translate(67.44919 242.820216)scale(0.1 -0.1)\">\n       <defs>\n        <path d=\"M 12.40625 8.296875 \nL 28.515625 8.296875 \nL 28.515625 63.921875 \nL 10.984375 60.40625 \nL 10.984375 69.390625 \nL 28.421875 72.90625 \nL 38.28125 72.90625 \nL 38.28125 8.296875 \nL 54.390625 8.296875 \nL 54.390625 0 \nL 12.40625 0 \nz\n\" id=\"DejaVuSans-49\"/>\n       </defs>\n       <use xlink:href=\"#DejaVuSans-49\"/>\n       <use x=\"63.623047\" xlink:href=\"#DejaVuSans-48\"/>\n       <use x=\"127.246094\" xlink:href=\"#DejaVuSans-48\"/>\n      </g>\n     </g>\n    </g>\n    <g id=\"xtick_3\">\n     <g id=\"line2d_3\">\n      <g>\n       <use style=\"stroke:#000000;stroke-width:0.8;\" x=\"120.48094\" xlink:href=\"#m3c27ca4ede\" y=\"228.221779\"/>\n      </g>\n     </g>\n     <g id=\"text_3\">\n      <!-- 200 -->\n      <g transform=\"translate(110.93719 242.820216)scale(0.1 -0.1)\">\n       <defs>\n        <path d=\"M 19.1875 8.296875 \nL 53.609375 8.296875 \nL 53.609375 0 \nL 7.328125 0 \nL 7.328125 8.296875 \nQ 12.9375 14.109375 22.625 23.890625 \nQ 32.328125 33.6875 34.8125 36.53125 \nQ 39.546875 41.84375 41.421875 45.53125 \nQ 43.3125 49.21875 43.3125 52.78125 \nQ 43.3125 58.59375 39.234375 62.25 \nQ 35.15625 65.921875 28.609375 65.921875 \nQ 23.96875 65.921875 18.8125 64.3125 \nQ 13.671875 62.703125 7.8125 59.421875 \nL 7.8125 69.390625 \nQ 13.765625 71.78125 18.9375 73 \nQ 24.125 74.21875 28.421875 74.21875 \nQ 39.75 74.21875 46.484375 68.546875 \nQ 53.21875 62.890625 53.21875 53.421875 \nQ 53.21875 48.921875 51.53125 44.890625 \nQ 49.859375 40.875 45.40625 35.40625 \nQ 44.1875 33.984375 37.640625 27.21875 \nQ 31.109375 20.453125 19.1875 8.296875 \nz\n\" id=\"DejaVuSans-50\"/>\n       </defs>\n       <use xlink:href=\"#DejaVuSans-50\"/>\n       <use x=\"63.623047\" xlink:href=\"#DejaVuSans-48\"/>\n       <use x=\"127.246094\" xlink:href=\"#DejaVuSans-48\"/>\n      </g>\n     </g>\n    </g>\n    <g id=\"xtick_4\">\n     <g id=\"line2d_4\">\n      <g>\n       <use style=\"stroke:#000000;stroke-width:0.8;\" x=\"163.96894\" xlink:href=\"#m3c27ca4ede\" y=\"228.221779\"/>\n      </g>\n     </g>\n     <g id=\"text_4\">\n      <!-- 300 -->\n      <g transform=\"translate(154.42519 242.820216)scale(0.1 -0.1)\">\n       <defs>\n        <path d=\"M 40.578125 39.3125 \nQ 47.65625 37.796875 51.625 33 \nQ 55.609375 28.21875 55.609375 21.1875 \nQ 55.609375 10.40625 48.1875 4.484375 \nQ 40.765625 -1.421875 27.09375 -1.421875 \nQ 22.515625 -1.421875 17.65625 -0.515625 \nQ 12.796875 0.390625 7.625 2.203125 \nL 7.625 11.71875 \nQ 11.71875 9.328125 16.59375 8.109375 \nQ 21.484375 6.890625 26.8125 6.890625 \nQ 36.078125 6.890625 40.9375 10.546875 \nQ 45.796875 14.203125 45.796875 21.1875 \nQ 45.796875 27.640625 41.28125 31.265625 \nQ 36.765625 34.90625 28.71875 34.90625 \nL 20.21875 34.90625 \nL 20.21875 43.015625 \nL 29.109375 43.015625 \nQ 36.375 43.015625 40.234375 45.921875 \nQ 44.09375 48.828125 44.09375 54.296875 \nQ 44.09375 59.90625 40.109375 62.90625 \nQ 36.140625 65.921875 28.71875 65.921875 \nQ 24.65625 65.921875 20.015625 65.03125 \nQ 15.375 64.15625 9.8125 62.3125 \nL 9.8125 71.09375 \nQ 15.4375 72.65625 20.34375 73.4375 \nQ 25.25 74.21875 29.59375 74.21875 \nQ 40.828125 74.21875 47.359375 69.109375 \nQ 53.90625 64.015625 53.90625 55.328125 \nQ 53.90625 49.265625 50.4375 45.09375 \nQ 46.96875 40.921875 40.578125 39.3125 \nz\n\" id=\"DejaVuSans-51\"/>\n       </defs>\n       <use xlink:href=\"#DejaVuSans-51\"/>\n       <use x=\"63.623047\" xlink:href=\"#DejaVuSans-48\"/>\n       <use x=\"127.246094\" xlink:href=\"#DejaVuSans-48\"/>\n      </g>\n     </g>\n    </g>\n    <g id=\"xtick_5\">\n     <g id=\"line2d_5\">\n      <g>\n       <use style=\"stroke:#000000;stroke-width:0.8;\" x=\"207.45694\" xlink:href=\"#m3c27ca4ede\" y=\"228.221779\"/>\n      </g>\n     </g>\n     <g id=\"text_5\">\n      <!-- 400 -->\n      <g transform=\"translate(197.91319 242.820216)scale(0.1 -0.1)\">\n       <defs>\n        <path d=\"M 37.796875 64.3125 \nL 12.890625 25.390625 \nL 37.796875 25.390625 \nz\nM 35.203125 72.90625 \nL 47.609375 72.90625 \nL 47.609375 25.390625 \nL 58.015625 25.390625 \nL 58.015625 17.1875 \nL 47.609375 17.1875 \nL 47.609375 0 \nL 37.796875 0 \nL 37.796875 17.1875 \nL 4.890625 17.1875 \nL 4.890625 26.703125 \nz\n\" id=\"DejaVuSans-52\"/>\n       </defs>\n       <use xlink:href=\"#DejaVuSans-52\"/>\n       <use x=\"63.623047\" xlink:href=\"#DejaVuSans-48\"/>\n       <use x=\"127.246094\" xlink:href=\"#DejaVuSans-48\"/>\n      </g>\n     </g>\n    </g>\n   </g>\n   <g id=\"matplotlib.axis_2\">\n    <g id=\"ytick_1\">\n     <g id=\"line2d_6\">\n      <defs>\n       <path d=\"M 0 0 \nL -3.5 0 \n\" id=\"mb405e2410b\" style=\"stroke:#000000;stroke-width:0.8;\"/>\n      </defs>\n      <g>\n       <use style=\"stroke:#000000;stroke-width:0.8;\" x=\"33.2875\" xlink:href=\"#mb405e2410b\" y=\"10.999219\"/>\n      </g>\n     </g>\n     <g id=\"text_6\">\n      <!-- 0 -->\n      <g transform=\"translate(19.925 14.798437)scale(0.1 -0.1)\">\n       <use xlink:href=\"#DejaVuSans-48\"/>\n      </g>\n     </g>\n    </g>\n    <g id=\"ytick_2\">\n     <g id=\"line2d_7\">\n      <g>\n       <use style=\"stroke:#000000;stroke-width:0.8;\" x=\"33.2875\" xlink:href=\"#mb405e2410b\" y=\"54.487219\"/>\n      </g>\n     </g>\n     <g id=\"text_7\">\n      <!-- 100 -->\n      <g transform=\"translate(7.2 58.286437)scale(0.1 -0.1)\">\n       <use xlink:href=\"#DejaVuSans-49\"/>\n       <use x=\"63.623047\" xlink:href=\"#DejaVuSans-48\"/>\n       <use x=\"127.246094\" xlink:href=\"#DejaVuSans-48\"/>\n      </g>\n     </g>\n    </g>\n    <g id=\"ytick_3\">\n     <g id=\"line2d_8\">\n      <g>\n       <use style=\"stroke:#000000;stroke-width:0.8;\" x=\"33.2875\" xlink:href=\"#mb405e2410b\" y=\"97.975219\"/>\n      </g>\n     </g>\n     <g id=\"text_8\">\n      <!-- 200 -->\n      <g transform=\"translate(7.2 101.774437)scale(0.1 -0.1)\">\n       <use xlink:href=\"#DejaVuSans-50\"/>\n       <use x=\"63.623047\" xlink:href=\"#DejaVuSans-48\"/>\n       <use x=\"127.246094\" xlink:href=\"#DejaVuSans-48\"/>\n      </g>\n     </g>\n    </g>\n    <g id=\"ytick_4\">\n     <g id=\"line2d_9\">\n      <g>\n       <use style=\"stroke:#000000;stroke-width:0.8;\" x=\"33.2875\" xlink:href=\"#mb405e2410b\" y=\"141.463219\"/>\n      </g>\n     </g>\n     <g id=\"text_9\">\n      <!-- 300 -->\n      <g transform=\"translate(7.2 145.262437)scale(0.1 -0.1)\">\n       <use xlink:href=\"#DejaVuSans-51\"/>\n       <use x=\"63.623047\" xlink:href=\"#DejaVuSans-48\"/>\n       <use x=\"127.246094\" xlink:href=\"#DejaVuSans-48\"/>\n      </g>\n     </g>\n    </g>\n    <g id=\"ytick_5\">\n     <g id=\"line2d_10\">\n      <g>\n       <use style=\"stroke:#000000;stroke-width:0.8;\" x=\"33.2875\" xlink:href=\"#mb405e2410b\" y=\"184.951219\"/>\n      </g>\n     </g>\n     <g id=\"text_10\">\n      <!-- 400 -->\n      <g transform=\"translate(7.2 188.750437)scale(0.1 -0.1)\">\n       <use xlink:href=\"#DejaVuSans-52\"/>\n       <use x=\"63.623047\" xlink:href=\"#DejaVuSans-48\"/>\n       <use x=\"127.246094\" xlink:href=\"#DejaVuSans-48\"/>\n      </g>\n     </g>\n    </g>\n   </g>\n   <g id=\"patch_3\">\n    <path d=\"M 33.2875 228.221779 \nL 33.2875 10.781779 \n\" style=\"fill:none;stroke:#000000;stroke-linecap:square;stroke-linejoin:miter;stroke-width:0.8;\"/>\n   </g>\n   <g id=\"patch_4\">\n    <path d=\"M 250.7275 228.221779 \nL 250.7275 10.781779 \n\" style=\"fill:none;stroke:#000000;stroke-linecap:square;stroke-linejoin:miter;stroke-width:0.8;\"/>\n   </g>\n   <g id=\"patch_5\">\n    <path d=\"M 33.2875 228.221779 \nL 250.7275 228.221779 \n\" style=\"fill:none;stroke:#000000;stroke-linecap:square;stroke-linejoin:miter;stroke-width:0.8;\"/>\n   </g>\n   <g id=\"patch_6\">\n    <path d=\"M 33.2875 10.781779 \nL 250.7275 10.781779 \n\" style=\"fill:none;stroke:#000000;stroke-linecap:square;stroke-linejoin:miter;stroke-width:0.8;\"/>\n   </g>\n  </g>\n </g>\n <defs>\n  <clipPath id=\"pa1f78b0a2d\">\n   <rect height=\"217.44\" width=\"217.44\" x=\"33.2875\" y=\"10.781779\"/>\n  </clipPath>\n </defs>\n</svg>\n",
      "image/png": "[encoded data removed]"
     },
     "metadata": {
      "needs_background": "light"
     }
    }
   ],
   "metadata": {}
  },
  {
   "cell_type": "code",
   "execution_count": null,
   "source": [],
   "outputs": [],
   "metadata": {}
  }
 ],
 "metadata": {
  "orig_nbformat": 4,
  "language_info": {
   "name": "python",
   "version": "3.7.10",
   "mimetype": "text/x-python",
   "codemirror_mode": {
    "name": "ipython",
    "version": 3
   },
   "pygments_lexer": "ipython3",
   "nbconvert_exporter": "python",
   "file_extension": ".py"
  },
  "kernelspec": {
   "name": "python3",
   "display_name": "Python 3.7.10 64-bit ('pytorch': pyenv)"
  },
  "interpreter": {
   "hash": "26eed8210b9b4f91c95fbe1f795fd2ead5b544b6eeacda5fe5d6f8b130fa03f3"
  }
 },
 "nbformat": 4,
 "nbformat_minor": 2
}